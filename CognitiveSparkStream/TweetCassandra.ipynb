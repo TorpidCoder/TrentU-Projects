{
 "cells": [
  {
   "cell_type": "code",
   "execution_count": null,
   "metadata": {},
   "outputs": [],
   "source": [
    "import tweepy\n",
    "import numpy as np\n",
    "import pandas as pd\n",
    "\n",
    "consumer_key = \"aNV8IroYwRqg35JxsrOvrRn6d\"\n",
    "consumer_secret = \"vOQSzwchXQFoZo9kUyon2cJ9lAuL2FEJk0i8dtY1jrDL1x4PEf\"\n",
    "access_token = \"1454117148-xw6NL1aozNHyusPOX6jXdo3nAeIaTW5vsDk5snh\"\n",
    "access_secret = \"bRXD5gfuy2DZw1f64SMutcvtCG5F1PGXvFLy9egbgggJJ\""
   ]
  },
  {
   "cell_type": "code",
   "execution_count": null,
   "metadata": {},
   "outputs": [],
   "source": [
    "auth = tweepy.OAuthHandler(consumer_key, consumer_secret)\n",
    "auth.set_access_token(access_token, access_secret)\n",
    "api = tweepy.API(auth)"
   ]
  },
  {
   "cell_type": "code",
   "execution_count": null,
   "metadata": {},
   "outputs": [],
   "source": [
    "tweetsdataframe = pd.DataFrame(columns = ['Tweets', 'User'])\n",
    "\n",
    "\n",
    "# tweetsdataframe = pd.DataFrame(columns = ['Tweets', 'User', 'User_statuses_count', \n",
    "#                              'user_followers', 'User_location', 'User_verified',\n",
    "#                              'fav_count', 'rt_count', 'tweet_date'])"
   ]
  },
  {
   "cell_type": "code",
   "execution_count": null,
   "metadata": {},
   "outputs": [],
   "source": [
    "def stream(data, file_name):\n",
    "    i = 0\n",
    "    for tweet in tweepy.Cursor(api.search, q=data, count=100, lang='en').items():\n",
    "        print(\"Collected Tweets (Counts) : \" ,i, end='\\r')\n",
    "        tweetsdataframe.loc[i, 'Tweets'] = tweet.text\n",
    "        tweetsdataframe.loc[i, 'User'] = tweet.user.name\n",
    "        #tweetsdataframe.to_excel('{}.xlsx'.format(file_name))\n",
    "        tweetsdataframe.to_csv('{}.csv'.format(file_name),sep = '|')\n",
    "        i+=1\n",
    "        if i == 1000:\n",
    "            break\n",
    "        else:\n",
    "            pass\n",
    "        \n",
    "        \n",
    "# def stream(data, file_name):\n",
    "#     i = 0\n",
    "#     for tweet in tweepy.Cursor(api.search, q=data, count=100, lang='en').items():\n",
    "#         print(\"Collected Tweets (Counts) : \" ,i, end='\\r')\n",
    "#         tweetsdataframe.loc[i, 'Tweets'] = tweet.text\n",
    "#         tweetsdataframe.loc[i, 'User'] = tweet.user.name\n",
    "#         tweetsdataframe.loc[i, 'User_statuses_count'] = tweet.user.statuses_count\n",
    "#         tweetsdataframe.loc[i, 'user_followers'] = tweet.user.followers_count\n",
    "#         tweetsdataframe.loc[i, 'User_location'] = tweet.user.location\n",
    "#         tweetsdataframe.loc[i, 'User_verified'] = tweet.user.verified\n",
    "#         tweetsdataframe.loc[i, 'fav_count'] = tweet.favorite_count\n",
    "#         tweetsdataframe.loc[i, 'rt_count'] = tweet.retweet_count\n",
    "#         tweetsdataframe.loc[i, 'tweet_date'] = tweet.created_at\n",
    "#         #tweetsdataframe.to_excel('{}.xlsx'.format(file_name))\n",
    "#         tweetsdataframe.to_csv('{}.csv'.format(file_name),sep = '|')\n",
    "#         i+=1\n",
    "#         if i == 1000:\n",
    "#             break\n",
    "#         else:\n",
    "#             pass\n",
    "\n"
   ]
  },
  {
   "cell_type": "code",
   "execution_count": null,
   "metadata": {},
   "outputs": [],
   "source": [
    "stream(data = ['coronavirus'], file_name = 'streamTweets')"
   ]
  },
  {
   "cell_type": "code",
   "execution_count": null,
   "metadata": {},
   "outputs": [],
   "source": [
    "tweetsdataframe.head()"
   ]
  },
  {
   "cell_type": "code",
   "execution_count": null,
   "metadata": {},
   "outputs": [],
   "source": []
  },
  {
   "cell_type": "code",
   "execution_count": null,
   "metadata": {},
   "outputs": [],
   "source": []
  },
  {
   "cell_type": "code",
   "execution_count": null,
   "metadata": {},
   "outputs": [],
   "source": []
  }
 ],
 "metadata": {
  "kernelspec": {
   "display_name": "Python 3",
   "language": "python",
   "name": "python3"
  },
  "language_info": {
   "codemirror_mode": {
    "name": "ipython",
    "version": 3
   },
   "file_extension": ".py",
   "mimetype": "text/x-python",
   "name": "python",
   "nbconvert_exporter": "python",
   "pygments_lexer": "ipython3",
   "version": "3.7.4"
  }
 },
 "nbformat": 4,
 "nbformat_minor": 2
}
